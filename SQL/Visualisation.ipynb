{
 "cells": [
  {
   "cell_type": "markdown",
   "metadata": {},
   "source": [
    "## Visualisation\n",
    "This code uses the output from MWATS_average_SQL and provides basic visualisation functionality. "
   ]
  },
  {
   "cell_type": "code",
   "execution_count": null,
   "metadata": {},
   "outputs": [],
   "source": [
    "import requests\n",
    "import numpy as np\n",
    "import plots as pl\n",
    "import pandas as pd\n",
    "import matplotlib.pyplot as plt \n",
    "import aplpy \n",
    "import os\n",
    "import matplotlib.image as mpimg\n",
    "import matplotlib.gridspec as gridspec\n",
    "from IPython.core.display import HTML\n",
    "display(HTML(\"<style>.container { width:100% !important; }</style>\"))"
   ]
  },
  {
   "cell_type": "code",
   "execution_count": null,
   "metadata": {},
   "outputs": [],
   "source": [
    "def query(ra, dec, radius=5):\n",
    "    url = f\"http://simbad.u-strasbg.fr/simbad/sim-coo?Coord={ra}d{dec}d&CooFrame=FK5&CooEpoch=2000&CooEqui=2000&CooDefinedFrames=none&Radius={radius}&Radius.unit=arcmin&submit=submit+query\"\n",
    "    return url"
   ]
  },
  {
   "cell_type": "code",
   "execution_count": null,
   "metadata": {},
   "outputs": [],
   "source": [
    "def get_response(ra, dec, radius=5):\n",
    "    url = query(ra, dec, radius)\n",
    "    response = requests.get(url)\n",
    "    tables = pd.read_html(response.text)\n",
    "    idx = np.argmax(['Identifier' in t.columns for t in tables])\n",
    "    table = tables[idx]\n",
    "    try:\n",
    "        identifier = table.loc[0, 'Identifier']\n",
    "    except KeyError:\n",
    "        identifier = 'No object found'\n",
    "    return identifier, url, table"
   ]
  },
  {
   "cell_type": "code",
   "execution_count": null,
   "metadata": {},
   "outputs": [],
   "source": [
    "# Generic function for plotting light-curves and stats.\n",
    "def plot_lc(source):\n",
    "    all = filtered_raw_data[filtered_raw_data.source_id == source]\n",
    "    all = all.sort_values(by='jd')\n",
    "    plt.figure(figsize=(7, 8))\n",
    "    plt.subplot(2,1,1)\n",
    "    f = list(all.raw_peak_flux)\n",
    "    s_stats = stats[stats.source_id == source]\n",
    "    plt.title(str(source)+' RA='+str(round(s_stats.ra.values[0], 3))+' DEC='+str(round(s_stats.dec.values[0], 3)))\n",
    "    #plt.title(str(source)+' RA='+str(s_stats.ra)+' DEC='+str(s_stats.dec))\n",
    "    plt.plot(list(f), 'k.', label='Flux')\n",
    "    plt.xlabel('Observation Number')\n",
    "    plt.ylabel('Flux (Jy)')\n",
    "    # Non-averaged\n",
    "    plt.subplot(2,1,2)\n",
    "    plt.plot(all.jd, all.raw_peak_flux, 'k.', label='Flux')\n",
    "    ts = []\n",
    "    ys = []\n",
    "    for t in all.jd:\n",
    "        sli = stats[stats.source_id == source]\n",
    "        y = (sli.grad * t) + sli.y_int\n",
    "        ts.append(float(t))\n",
    "        ys.append(float(y))\n",
    "    plt.plot(ts,ys,'k-.', label='$\\\\nabla_{S} = $'+str( round(float(sli.sig),2) ))\n",
    "        \n",
    "    # Averaged \n",
    "    avg = filtered_raw_avg_data[filtered_raw_avg_data.source_id == source]\n",
    "    plt.errorbar(avg.mean_jd, avg.median_flux, avg.std_flux, fmt='ro', label=\"Median flux\", markersize=10)\n",
    "    ts = []\n",
    "    ys = []\n",
    "    for t in avg.mean_jd:\n",
    "        sli = stats[stats.source_id == source]\n",
    "        y = (sli.avg_grad * t) + sli.avg_y_int\n",
    "        ts.append(float(t))\n",
    "        ys.append(float(y))\n",
    "    plt.plot(ts,ys,'r-.', label='Median $\\\\nabla_{S} = $'+str( round(float(sli.avg_sig),2) ))\n",
    "    #plt.ylim(np.mean(f)*0.8, np.mean(f)*1.2)\n",
    "    plt.xlabel('Time (JD)')\n",
    "    plt.ylabel('Flux (Jy)')\n",
    "    plt.savefig('thumbs/'+str(source)+'_Avg_LC.jpg')\n",
    "    plt.legend()\n",
    "    plt.close"
   ]
  },
  {
   "cell_type": "code",
   "execution_count": null,
   "metadata": {},
   "outputs": [],
   "source": [
    "def get_image(source_id):\n",
    "    exists = os.path.isfile('thumbs/'+str(source_id)+'.jpg')\n",
    "    if not exists:\n",
    "        # Select random image\n",
    "        plt.figure(figsize=[10,12])\n",
    "        image = filtered_raw_data[filtered_raw_data.source_id == source_id].image.sample(1).values[0]\n",
    "        s_stats = stats[stats.source_id == source_id]\n",
    "        grid = True\n",
    "        size=(600, 600)\n",
    "        dpi = 40\n",
    "        figure = aplpy.FITSFigure('/Volumes/BEL27A-BKP01/MWATS/'+image, dimensions=[0,1], slices=[0,0], auto_refresh=False, dpi = dpi, figsize = (size[0] / float(dpi), size[1] / float(dpi)))\n",
    "        ra = s_stats.ra.values[0]\n",
    "        dec = s_stats.dec.values[0]\n",
    "        circle_size = 1.0 # 1 degree circle\n",
    "        figure.recenter(ra, dec, radius=1.0, width=2.0, height=2.0)\n",
    "        #figure.recenter(ra, dec, circle_size) \n",
    "        if grid:\n",
    "            try:\n",
    "                figure.add_grid()\n",
    "            except Exception as e:\n",
    "                logging.warn(\"APLpy error adding grid to image: {0}\".format(e))\n",
    "        # Adjust the axis labels, otherwise they overlap\n",
    "        # If the image is less than two arc minutes across, show seconds on the tick labels\n",
    "    \n",
    "        image_radius = circle_size\n",
    "        if image_radius < 1.0 / 60.0 * 2:\n",
    "                figure.tick_labels.set_xformat(\"hh:mm:ss\")\n",
    "                figure.tick_labels.set_yformat(\"dd:mm:ss\")\n",
    "        else:\n",
    "                figure.tick_labels.set_xformat(\"hh:mm\")\n",
    "                figure.tick_labels.set_yformat(\"dd:mm\")\n",
    "\n",
    "        figure.tick_labels.set_xformat(\"dd:mm\")\n",
    "        figure.tick_labels.set_yformat(\"dd:mm\")\n",
    "        figure.show_grayscale(pmin=5.0, pmax=99.5, invert=False)\n",
    "        figure.add_colorbar()\n",
    "        # Show locations of the neighbours\n",
    "        figure.show_rectangles(ra, dec, 0.1, 0.1, edgecolor='k', linewidth=2.0)\n",
    "        n = neighbours[neighbours.source_id == source_id]\n",
    "        for num in range(5):\n",
    "            if num == 0:\n",
    "               neigh = n.n_id1.values[0]\n",
    "               nra  =  n.n_id1_ra.values[0]\n",
    "               ndec =  n.n_id1_dec.values[0]\n",
    "               colour = 'm'\n",
    "            if num == 1:\n",
    "               neigh = n.n_id2.values[0]\n",
    "               nra  =  n.n_id2_ra.values[0]\n",
    "               ndec =  n.n_id2_dec.values[0]\n",
    "               colour = 'y'\n",
    "            if num == 2:\n",
    "               neigh = n.n_id3.values[0]\n",
    "               nra  =  n.n_id3_ra.values[0]\n",
    "               ndec =  n.n_id3_dec.values[0]\n",
    "               colour = 'c'\n",
    "            if num == 3:\n",
    "               neigh = n.n_id4.values[0]\n",
    "               nra  =  n.n_id4_ra.values[0]\n",
    "               ndec =  n.n_id4_dec.values[0]\n",
    "               colour = 'b'\n",
    "            if num == 4:\n",
    "               neigh = n.n_id5.values[0]\n",
    "               nra  =  n.n_id5_ra.values[0]\n",
    "               ndec =  n.n_id5_dec.values[0]\n",
    "               colour = 'r'\n",
    "            #n_stats = stats[stats.source_id == neigh]\n",
    "            #print(n_stats)\n",
    "            figure.show_ellipses(nra, ndec, 0.1, 0.1, edgecolor=colour, linewidth=2.0)\n",
    "        figure.save('thumbs/'+str(source_id)+'.jpg')\n",
    "        figure.close()"
   ]
  },
  {
   "cell_type": "code",
   "execution_count": null,
   "metadata": {},
   "outputs": [],
   "source": [
    "def plot_n_lc(source):\n",
    "    plt.figure(figsize=[8,6])\n",
    "    #plt.subplot(2,1,1)\n",
    "    gs = gridspec.GridSpec(3, 2)\n",
    "    n = neighbours[neighbours.source_id == source]\n",
    "    for num in range(5):\n",
    "        if num == 0:\n",
    "               neigh = n.n_id1.values[0]\n",
    "               colour = 'm'\n",
    "        if num == 1:\n",
    "               neigh = n.n_id2.values[0]\n",
    "               colour = 'y'\n",
    "        if num == 2:\n",
    "               neigh = n.n_id3.values[0]\n",
    "               colour = 'c'\n",
    "        if num == 3:\n",
    "               neigh = n.n_id4.values[0]\n",
    "               colour = 'b'\n",
    "        if num == 4:\n",
    "               neigh = n.n_id5.values[0]\n",
    "               colour = 'r'\n",
    "        #plt.subplot2grid((3, 2), (num, 0))    \n",
    "        plt.subplot(gs[num])    \n",
    "        #plt.subplot(3,2,num+1)\n",
    "        s_stats = stats[stats.source_id == source]\n",
    "        #plt.title(str(source)+' RA='+str(round(s_stats.ra.values[0], 3))+' DEC='+str(round(s_stats.dec.values[0], 3)))\n",
    "        main = filtered_raw_data[filtered_raw_data.source_id == source]\n",
    "        main = main.sort_values(by='jd')\n",
    "        n = neighbours[neighbours.source_id == source]\n",
    "        n_data = filtered_raw_data[filtered_raw_data.source_id == neigh]\n",
    "        n_data = n_data.sort_values(by='jd')\n",
    "\n",
    "        main = main.set_index('time')\n",
    "        n_data = n_data.set_index('time')\n",
    "\n",
    "        result = pd.concat([main, n_data])\n",
    "        result = result.sort_values(by='time')\n",
    "\n",
    "        image_ids = list(result.image_id)\n",
    "\n",
    "        count = 0\n",
    "        counts = []\n",
    "        counts.append(count)\n",
    "        for i in range(len(image_ids)-1):\n",
    "            if image_ids[i+1]-image_ids[i] == 0:\n",
    "               count = count\n",
    "            else: \n",
    "               count = count + 1\n",
    "            counts.append(count)\n",
    "\n",
    "        result['counts'] = counts\n",
    "\n",
    "        p1 = result[result.source_id == source] \n",
    "        p2 = result[result.source_id == neigh]\n",
    "    \n",
    "        plt.plot(p2.counts, p2.raw_peak_flux, color=colour, markersize=5, marker='.', label='Neighbour', alpha=0.5)\n",
    "        plt.plot(p1.counts, p1.raw_peak_flux, 'ko-.', label='Main', alpha=0.5)\n",
    "\n",
    "        plt.ylabel('Flux (Jy)')\n",
    "        plt.xlabel('Image sequence (N)')\n",
    "        #plt.legend()\n",
    "    \n",
    "    # Plot the gain\n",
    "    plt.subplot(gs[5])\n",
    "    plt.plot(list(main.Gain), 'ko', alpha=0.5)\n",
    "    plt.ylabel('Gain')\n",
    "    plt.xlabel('Image sequence (N)')\n",
    "    plt.tight_layout()\n",
    "    plt.savefig('thumbs/'+str(source)+'_LCS.jpg')\n",
    "    plt.close()\n"
   ]
  },
  {
   "cell_type": "code",
   "execution_count": null,
   "metadata": {},
   "outputs": [],
   "source": [
    "# Load the data\n",
    "stats = pd.read_feather('stats_table.fth')\n",
    "filtered_raw_data = pd.read_feather('data.fth')\n",
    "filtered_raw_avg_data = pd.read_feather('avg_data.fth')\n",
    "neighbours = pd.read_feather('neighbours.fth')"
   ]
  },
  {
   "cell_type": "markdown",
   "metadata": {},
   "source": [
    "### Plot data in stats-feature-space"
   ]
  },
  {
   "cell_type": "code",
   "execution_count": null,
   "metadata": {},
   "outputs": [],
   "source": [
    "display(stats)"
   ]
  },
  {
   "cell_type": "code",
   "execution_count": null,
   "metadata": {},
   "outputs": [],
   "source": [
    "# known pulsars\n",
    "pulsars = stats['source_id'].isin([243604, 42552, 200265, 207902, 238922])"
   ]
  },
  {
   "cell_type": "code",
   "execution_count": null,
   "metadata": {},
   "outputs": [],
   "source": [
    "plt.rcParams.update({'font.size': 13})\n",
    "plt.figure(figsize=(19,12))\n",
    "plt.subplot(2,3,1)\n",
    "plt.plot(np.log(stats['avg_sig'].abs()),np.log(stats['avg_grad'].abs()),'^',c='grey',ms=1)\n",
    "plt.plot(np.log(stats[pulsars]['avg_sig'].abs()),np.log(stats[pulsars]['avg_grad'].abs()),'^',c='#AA1100',ms=3.5)\n",
    "plt.xlabel('Log Abs significance of daily-averaged gradient')\n",
    "plt.ylabel('Log Abs daily-averaged gradient')\n",
    "plt.subplot(2,3,2)\n",
    "plt.plot(np.log(stats['Mod']),np.log(stats['avg_grad'].abs()),'^',c='grey',ms=1)\n",
    "plt.plot(np.log(stats[pulsars]['Mod']),np.log(stats[pulsars]['avg_grad'].abs()),'^',c='#AA1100',ms=3.5)\n",
    "plt.xlabel('Log modulation index')\n",
    "plt.ylabel('Log Abs daily-averaged gradient')\n",
    "plt.subplot(2,3,3)\n",
    "plt.plot(np.log(stats['avg_grad'].abs()),np.log(stats['avg_std']),'^',c='grey',ms=1)\n",
    "plt.plot(np.log(stats[pulsars]['avg_grad'].abs()),np.log(stats[pulsars]['avg_std']),'^',c='#AA1100',ms=3.5)\n",
    "plt.xlabel('Log Abs daily-averaged gradient')\n",
    "plt.ylabel('Log daily-averaged StDev Flux')\n",
    "plt.subplot(2,3,4)\n",
    "plt.plot(np.log(stats['avg_Mod']),np.log(stats['avg_std']),'^',c='grey',ms=1)\n",
    "plt.plot(np.log(stats[pulsars]['avg_Mod']),np.log(stats[pulsars]['avg_std']),'^',c='#AA1100',ms=3.5)\n",
    "plt.xlabel('Log daily-averaged modulation index')\n",
    "plt.ylabel('Log daily-averaged StDev Flux')\n",
    "plt.subplot(2,3,5)\n",
    "plt.plot(np.log(stats['avg_Mod']),np.log(stats['avg_sig'].abs()),'^',c='grey',ms=1)\n",
    "plt.plot(np.log(stats[pulsars]['avg_Mod']),np.log(stats[pulsars]['avg_sig'].abs()),'^',c='#AA1100',ms=3.5)\n",
    "plt.xlabel('Log daily-averaged modulation index')\n",
    "plt.ylabel('Log Abs significance of daily-averaged gradient')\n",
    "plt.subplot(2,3,6)\n",
    "plt.plot(np.log(stats['avg_median']),np.log(stats['avg_sig'].abs()),'^',c='grey',ms=1)\n",
    "plt.plot(np.log(stats[pulsars]['avg_median']),np.log(stats[pulsars]['avg_sig'].abs()),'^',c='#AA1100',ms=3.5)\n",
    "plt.xlabel('Log daily-averaged median modulation index')\n",
    "plt.ylabel('Log Abs significance of daily-averaged gradient')"
   ]
  },
  {
   "cell_type": "markdown",
   "metadata": {},
   "source": [
    "### View interesting light-curves:"
   ]
  },
  {
   "cell_type": "code",
   "execution_count": null,
   "metadata": {},
   "outputs": [],
   "source": [
    "avg_sig_cut = 0.0\n",
    "avg_flux_cut = 0.25\n",
    "avg_Mod_cut = 30\n",
    "Mod_cut = 0.0\n",
    "\n",
    "interesting = stats[ ( ( stats.avg_sig.abs() ) > avg_sig_cut )             \n",
    "             & (stats.mean_raw_peak_flux > avg_flux_cut)\n",
    "             & (stats.avg_Mod > avg_Mod_cut) \n",
    "             & (stats.Mod > Mod_cut) ]\n",
    "\n",
    "len(interesting) # How many objects we have in our cut."
   ]
  },
  {
   "cell_type": "code",
   "execution_count": null,
   "metadata": {
    "scrolled": true
   },
   "outputs": [],
   "source": [
    "# Make plots of those sources. \n",
    "#for n in interesting.source_id:\n",
    "#   plot_lc(n)\n",
    "#   plot_n_lc(n)\n",
    "#   get_image(n)"
   ]
  },
  {
   "cell_type": "code",
   "execution_count": null,
   "metadata": {},
   "outputs": [],
   "source": [
    "plot_link = []\n",
    "LC_link = []\n",
    "avg_link = []\n",
    "url = []\n",
    "count = 0\n",
    "for s in (list(interesting.source_id)):\n",
    "    plot_link.append(\"<img src=\\'thumbs/\"+str(s)+\".jpg\\'>\") \n",
    "    LC_link.append(\"<img src=\\'thumbs/\"+str(s)+\"_LCS.jpg\\'>\") \n",
    "    avg_link.append(\"<img src=\\'thumbs/\"+str(s)+\"_Avg_LC.jpg\\'>\") \n",
    "    url.append('<a href=\"http://simbad.u-strasbg.fr/simbad/sim-coo?Coord='+str(interesting.ra.values[count])+'d+'+str(interesting.dec.values[count])+'d&CooFrame=FK5&CooEpoch=2000&CooEqui=2000&CooDefinedFrames=none&Radius=2&Radius.unit=arcmin&submit=submit+query\">Simbad Link</a>')\n",
    "    count +=1"
   ]
  },
  {
   "cell_type": "code",
   "execution_count": null,
   "metadata": {},
   "outputs": [],
   "source": [
    "interesting.insert(0, 'Thumb', plot_link)\n",
    "interesting.insert(1, 'LCs', LC_link)\n",
    "interesting.insert(2, 'Avg LC', avg_link)\n",
    "interesting.insert(3, 'URL', url)"
   ]
  },
  {
   "cell_type": "markdown",
   "metadata": {},
   "source": [
    "# Add in Simbad indentifiers"
   ]
  },
  {
   "cell_type": "code",
   "execution_count": null,
   "metadata": {},
   "outputs": [],
   "source": [
    "tmp = interesting.apply(lambda source: get_response(source.ra, source.dec)[0], axis=1)\n",
    "interesting.insert(4, 'candidate', tmp)"
   ]
  },
  {
   "cell_type": "markdown",
   "metadata": {},
   "source": [
    "# RESULTS"
   ]
  },
  {
   "cell_type": "code",
   "execution_count": null,
   "metadata": {
    "scrolled": false
   },
   "outputs": [],
   "source": [
    "pd.set_option('display.max_colwidth', -1)\n",
    "HTML(interesting.to_html(escape=False))"
   ]
  },
  {
   "cell_type": "markdown",
   "metadata": {},
   "source": [
    "## Location plots"
   ]
  },
  {
   "cell_type": "code",
   "execution_count": null,
   "metadata": {},
   "outputs": [],
   "source": [
    "def write_mod(ra, dec):\n",
    "    rad = 400\n",
    "    colour_str = '# color = green'\n",
    "    f.write('circle('+str(ra)+','+str(dec)+','+str(rad)+'\\\") '+colour_str)\n",
    "    f.write('\\n')\n",
    "    \n",
    "def write_mod_2(ra, dec):\n",
    "    rad = 450\n",
    "    colour_str = '# color = red'\n",
    "    f.write('circle('+str(ra)+','+str(dec)+','+str(rad)+'\\\") '+colour_str)\n",
    "    f.write('\\n')    \n",
    "\n",
    "def write_line(ra1, dec1, ra2, dec2):\n",
    "    times = 1.00\n",
    "    f.write('line('+str(ra1)+','+str(dec1)+','+str(ra2*times)+','+str(dec2*times)+')')\n",
    "    f.write('\\n')\n",
    "    \n",
    "f  = open(\"close.reg\", \"w\")\n",
    "f.write('fk5')\n",
    "f.write('\\n')"
   ]
  },
  {
   "cell_type": "code",
   "execution_count": null,
   "metadata": {},
   "outputs": [],
   "source": [
    "close_ra = list(close_source.source_id_ra)\n",
    "close_dec = list(close_source.source_id_dec)\n",
    "close_ra_n = list(close_source.n_id1_ra)\n",
    "close_dec_n = list(close_source.n_id1_dec)\n",
    "for i in range(len(close_ra)):\n",
    "    write_mod(close_ra[i], close_dec[i])\n",
    "    write_mod_2(close_ra_n[i], close_dec_n[i])\n",
    "    write_line(close_ra[i], close_dec[i],close_ra_n[i], close_dec_n[i])"
   ]
  },
  {
   "cell_type": "code",
   "execution_count": null,
   "metadata": {},
   "outputs": [],
   "source": []
  }
 ],
 "metadata": {
  "kernelspec": {
   "display_name": "Python 3",
   "language": "python",
   "name": "python3"
  },
  "language_info": {
   "codemirror_mode": {
    "name": "ipython",
    "version": 3
   },
   "file_extension": ".py",
   "mimetype": "text/x-python",
   "name": "python",
   "nbconvert_exporter": "python",
   "pygments_lexer": "ipython3",
   "version": "3.6.8"
  }
 },
 "nbformat": 4,
 "nbformat_minor": 2
}
